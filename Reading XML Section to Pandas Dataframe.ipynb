{
 "cells": [
  {
   "cell_type": "code",
   "execution_count": 1,
   "metadata": {},
   "outputs": [],
   "source": [
    "import xml.etree.ElementTree as ET\n",
    "import pandas as pd"
   ]
  },
  {
   "cell_type": "code",
   "execution_count": 2,
   "metadata": {},
   "outputs": [],
   "source": [
    "with open('british-diplomats-directory.xml') as fd:\n",
    "    tree = ET.parse(fd)\n",
    "root = tree.getroot()\n"
   ]
  },
  {
   "cell_type": "code",
   "execution_count": 3,
   "metadata": {},
   "outputs": [],
   "source": [
    "header_A = False\n",
    "guy_dates = dict() \n",
    "person = list()\n",
    "entries = list()\n",
    "for child in root.iter():\n",
    "    if child.attrib.get('{http://www.w3.org/XML/1998/namespace}id') == 'section-a':\n",
    "        #print(child.tag, child.attrib,child.text)\n",
    "        header_A = True\n",
    "    if child.attrib.get('{http://www.w3.org/XML/1998/namespace}id') == 'section-b':\n",
    "        header_A = False\n",
    "    if header_A:\n",
    "        if child.tag == \"entry\":\n",
    "            entries.append(child)   "
   ]
  },
  {
   "cell_type": "code",
   "execution_count": 4,
   "metadata": {},
   "outputs": [],
   "source": [
    "persons = list()\n",
    "\n",
    "for entry in entries:\n",
    "    for form in entry.iter(\"form\"):\n",
    "        postsDict= dict()\n",
    "        for name in form.iter(\"persName\"):\n",
    "#             print(name.text)\n",
    "            postsDict[\"persName\"] = name.text\n",
    "            the_name = name.text\n",
    "        for date in form.iter(\"date\"):\n",
    "#             print(date.text)\n",
    "            postsDict[\"date\"] = date.text\n",
    "            #person\n",
    "    postsDict[\"seg\"] = list()\n",
    "    for posts in entry.iter(\"def\"):\n",
    "        for post in posts.iter(\"seg\"):\n",
    "            tmp = {\"rs\": list(), \"dates\": list()}\n",
    "            for rs in post.iter(\"rs\"):\n",
    "#                 print(rs.text)\n",
    "                tmp[\"rs\"].append(rs.text)\n",
    "            for date in post.iter(\"date\"):\n",
    "#                 print(date.text)\n",
    "                tmp[\"dates\"].append(date.text)\n",
    "            postsDict[\"seg\"].append(tmp)\n",
    "            \n",
    "        #print(postsDict)\n",
    "        persons.append(postsDict)\n",
    "        "
   ]
  },
  {
   "cell_type": "code",
   "execution_count": 5,
   "metadata": {},
   "outputs": [
    {
     "data": {
      "text/plain": [
       "{'persName': 'ABBOTT, ANTHONY J.',\n",
       " 'date': '1941-',\n",
       " 'seg': [{'rs': ['Consul-General, Perth, Australia'], 'dates': ['1993-1997']},\n",
       "  {'rs': ['Governor of Montserrat'], 'dates': ['1997-2001']}]}"
      ]
     },
     "execution_count": 5,
     "metadata": {},
     "output_type": "execute_result"
    }
   ],
   "source": [
    "persons[0]"
   ]
  },
  {
   "cell_type": "code",
   "execution_count": 6,
   "metadata": {},
   "outputs": [],
   "source": [
    "persons_clean = list()\n",
    "for person in persons:\n",
    "    ambassador = dict()\n",
    "    pers_splt = person[\"persName\"].split(\",\")\n",
    "    ambassador[\"Name\"] = (\" \".join(pers_splt[1:])+\" \"+pers_splt[0]).title()\n",
    "    ambassador[\"Date\"] = person.get(\"date\")\n",
    "    ambassador[\"Blurb\"] = \", \".join(\" \".join(elt['rs'])+\" \"+\"|\".join(elt[\"dates\"]) for elt in person['seg'])\n",
    "    ambassador[\"persName\"] = person[\"persName\"]\n",
    "    persons_clean.append(ambassador)"
   ]
  },
  {
   "cell_type": "code",
   "execution_count": 7,
   "metadata": {},
   "outputs": [],
   "source": [
    "ambassadors = pd.DataFrame.from_records(persons_clean)"
   ]
  },
  {
   "cell_type": "code",
   "execution_count": 10,
   "metadata": {},
   "outputs": [],
   "source": [
    "#making sure the index starts at 1\n",
    "ambassadors.index = range(1,len(ambassadors)+1)"
   ]
  },
  {
   "cell_type": "code",
   "execution_count": 11,
   "metadata": {},
   "outputs": [],
   "source": [
    "ambassadors = ambassadors.fillna(\"\")"
   ]
  },
  {
   "cell_type": "code",
   "execution_count": 101,
   "metadata": {},
   "outputs": [],
   "source": [
    "ambassadors.to_csv(\"ambassadors.csv\")"
   ]
  }
 ],
 "metadata": {
  "kernelspec": {
   "display_name": "Python 3",
   "language": "python",
   "name": "python3"
  },
  "language_info": {
   "codemirror_mode": {
    "name": "ipython",
    "version": 3
   },
   "file_extension": ".py",
   "mimetype": "text/x-python",
   "name": "python",
   "nbconvert_exporter": "python",
   "pygments_lexer": "ipython3",
   "version": "3.7.0"
  }
 },
 "nbformat": 4,
 "nbformat_minor": 2
}
